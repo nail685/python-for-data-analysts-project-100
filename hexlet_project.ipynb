{
 "cells": [
  {
   "cell_type": "code",
   "execution_count": 13,
   "id": "345edd2c-1efa-46f5-a65c-6bf7aff4ab2a",
   "metadata": {},
   "outputs": [],
   "source": [
    "import pandas as pd \n",
    "import requests as req"
   ]
  },
  {
   "cell_type": "code",
   "execution_count": 10,
   "id": "a1f4be61-c995-4d70-baa4-ec09ccc9d0ce",
   "metadata": {},
   "outputs": [
    {
     "name": "stdout",
     "output_type": "stream",
     "text": [
      "Registration\n",
      "             user_id\n",
      "count  1.000000e+03\n",
      "mean   4.488623e+06\n",
      "std    2.620568e+06\n",
      "min    2.236800e+04\n",
      "25%    2.235489e+06\n",
      "50%    4.473044e+06\n",
      "75%    6.779707e+06\n",
      "max    8.881772e+06\n",
      "\n",
      "Visits\n",
      "                                         uuid platform  \\\n",
      "count                                   1000     1000   \n",
      "unique                                   519        3   \n",
      "top     251a0926-ece3-4d77-aa42-ab569fdf9fe2      web   \n",
      "freq                                       4      954   \n",
      "\n",
      "                                               user_agent                 date  \n",
      "count                                                1000                 1000  \n",
      "unique                                                 28                  996  \n",
      "top     Mozilla/5.0 (Windows NT 10.0; Win64; x64) Appl...  2023-03-01T08:01:45  \n",
      "freq                                                   71                    2  \n"
     ]
    }
   ],
   "source": [
    "regist = pd.read_csv('./regs_1k.csv')\n",
    "visits = pd.read_csv('./visits_1k.csv')\n",
    "\n",
    "print(f'Registration\\n {regist.describe()}')\n",
    "\n",
    "print(f'\\nVisits\\n {visits.describe()}')"
   ]
  },
  {
   "cell_type": "code",
   "execution_count": 17,
   "id": "27399f04-9d24-4ce0-8fd1-a84aae769713",
   "metadata": {},
   "outputs": [
    {
     "name": "stdout",
     "output_type": "stream",
     "text": [
      "<Response [500]>\n"
     ]
    }
   ],
   "source": [
    "START = '2023-03-01'\n",
    "END = '2023-09-01'\n",
    "visitors_req = req.get('https://data-charts-api.hexlet.app/visits?begin={START}&end={END}')\n",
    "print(visitors_req)\n",
    "# visitors = pd.DataFrame(visitors_req.json())\n",
    "regs_req = req.get('https://data-charts-api.hexlet.app/registrations?begin={START}&end={END}')\n",
    "# regs = pd.DataFrame(regs_req.json())"
   ]
  },
  {
   "cell_type": "code",
   "execution_count": null,
   "id": "19503ddd-40fc-4072-af66-196e2b4008b3",
   "metadata": {},
   "outputs": [],
   "source": []
  }
 ],
 "metadata": {
  "kernelspec": {
   "display_name": "Python 3 (ipykernel)",
   "language": "python",
   "name": "python3"
  },
  "language_info": {
   "codemirror_mode": {
    "name": "ipython",
    "version": 3
   },
   "file_extension": ".py",
   "mimetype": "text/x-python",
   "name": "python",
   "nbconvert_exporter": "python",
   "pygments_lexer": "ipython3",
   "version": "3.13.5"
  }
 },
 "nbformat": 4,
 "nbformat_minor": 5
}
