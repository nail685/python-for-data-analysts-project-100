{
 "cells": [
  {
   "cell_type": "code",
   "execution_count": 2,
   "id": "345edd2c-1efa-46f5-a65c-6bf7aff4ab2a",
   "metadata": {},
   "outputs": [],
   "source": [
    "import pandas as pd\n",
    "import matplotlib.pyplot as plt\n",
    "import numpy as np\n",
    "import seaborn as sns\n",
    "import requests as req\n",
    "import plotly.express as px\n",
    "import os\n",
    "from dotenv import load_dotenv"
   ]
  },
  {
   "cell_type": "markdown",
   "id": "6525a385",
   "metadata": {},
   "source": [
    "## ШАГ 1"
   ]
  },
  {
   "cell_type": "code",
   "execution_count": 1,
   "id": "a1f4be61-c995-4d70-baa4-ec09ccc9d0ce",
   "metadata": {},
   "outputs": [
    {
     "ename": "NameError",
     "evalue": "name 'pd' is not defined",
     "output_type": "error",
     "traceback": [
      "\u001b[31m---------------------------------------------------------------------------\u001b[39m",
      "\u001b[31mNameError\u001b[39m                                 Traceback (most recent call last)",
      "\u001b[36mCell\u001b[39m\u001b[36m \u001b[39m\u001b[32mIn[1]\u001b[39m\u001b[32m, line 1\u001b[39m\n\u001b[32m----> \u001b[39m\u001b[32m1\u001b[39m regist = \u001b[43mpd\u001b[49m.read_csv(\u001b[33m'\u001b[39m\u001b[33m./regs_1k.csv\u001b[39m\u001b[33m'\u001b[39m)\n\u001b[32m      2\u001b[39m visits = pd.read_csv(\u001b[33m'\u001b[39m\u001b[33m./visits_1k.csv\u001b[39m\u001b[33m'\u001b[39m)\n\u001b[32m      4\u001b[39m \u001b[38;5;28mprint\u001b[39m(\u001b[33mf\u001b[39m\u001b[33m'\u001b[39m\u001b[33mRegistration\u001b[39m\u001b[38;5;130;01m\\n\u001b[39;00m\u001b[33m \u001b[39m\u001b[38;5;132;01m{\u001b[39;00mregist.describe()\u001b[38;5;132;01m}\u001b[39;00m\u001b[33m'\u001b[39m)\n",
      "\u001b[31mNameError\u001b[39m: name 'pd' is not defined"
     ]
    }
   ],
   "source": [
    "regist = pd.read_csv('./regs_1k.csv')\n",
    "visits = pd.read_csv('./visits_1k.csv')\n",
    "\n",
    "print(f'Registration\\n {regist.describe()}')\n",
    "\n",
    "print(f'\\nVisits\\n {visits.describe()}')"
   ]
  },
  {
   "cell_type": "markdown",
   "id": "cd48def8",
   "metadata": {},
   "source": [
    "## ШАГ 2"
   ]
  },
  {
   "cell_type": "code",
   "execution_count": 3,
   "id": "27399f04-9d24-4ce0-8fd1-a84aae769713",
   "metadata": {},
   "outputs": [],
   "source": [
    "load_dotenv()\n",
    "API_URL = os.getenv('API_URL')\n",
    "START = os.getenv('DATE_BEGIN')\n",
    "END = os.getenv('DATE_END')\n",
    "visits_url = f'{API_URL}/visits?begin={START}&end={END}'\n",
    "reg_url = f'{API_URL}/registrations?begin={START}&end={END}'\n",
    "\n",
    "visitors_req = req.get(visits_url)\n",
    "visits_df = pd.DataFrame(visitors_req.json())\n",
    "\n",
    "regs_req = req.get(reg_url)\n",
    "regs_df = pd.DataFrame(regs_req.json())\n"
   ]
  },
  {
   "cell_type": "code",
   "execution_count": 5,
   "id": "0adf62dd",
   "metadata": {},
   "outputs": [
    {
     "name": "stdout",
     "output_type": "stream",
     "text": [
      "                               visit_id platform  \\\n",
      "0  1de9ea66-70d3-4a1f-8735-df5ef7697fb9      web   \n",
      "1  f149f542-e935-4870-9734-6b4501eaf614      web   \n",
      "2  08f0ebd4-950c-4dd9-8e97-b5bdf073eed1      web   \n",
      "3  19322fed-157c-49c6-b16e-2d5cabeb9592      web   \n",
      "4  04762a22-3c9f-40c9-9ac9-6628c4381836      web   \n",
      "\n",
      "                                          user_agent             datetime  \n",
      "0  Mozilla/5.0 (Windows NT 10.0; Win64; x64) Appl...  2023-03-01T10:36:22  \n",
      "1  Mozilla/5.0 (Windows NT 10.0; WOW64; Trident/7...  2023-03-01T06:25:00  \n",
      "2  Mozilla/5.0 (Macintosh; Intel Mac OS X 10_11_2...  2023-03-01T10:26:13  \n",
      "3  Mozilla/5.0 (Macintosh; Intel Mac OS X 10_15_7...  2023-03-01T12:33:06  \n",
      "4  Mozilla/5.0 (Windows NT 10.0; Win64; x64) Appl...  2023-03-01T01:38:35  \n",
      "\n",
      " __________________________________________________________\n",
      "              datetime                               user_id  \\\n",
      "0  2023-03-01T07:40:13  2e0f6bb8-b029-4f45-a786-2b53990d37f1   \n",
      "1  2023-03-01T13:14:00  f007f97c-9d8b-48b5-af08-119bb8f6d9b6   \n",
      "2  2023-03-01T03:05:50  24ff46ae-32b3-4a74-8f27-7cf0b8f32f15   \n",
      "3  2023-03-01T00:04:47  3e9914e1-5d73-4c23-b25d-b59a3aeb2b60   \n",
      "4  2023-03-01T18:31:52  27f875fc-f8ce-4aeb-8722-0ecb283d0760   \n",
      "\n",
      "                        email platform registration_type  \n",
      "0           ebyrd@example.org      web            google  \n",
      "1    knightgerald@example.org      web             email  \n",
      "2  cherylthompson@example.com      web             apple  \n",
      "3       halldavid@example.org      web             email  \n",
      "4        denise86@example.net      web            google  \n"
     ]
    }
   ],
   "source": [
    "print(visits_df.head())\n",
    "print(\"\\n __________________________________________________________\")\n",
    "print(regs_df.head())"
   ]
  },
  {
   "cell_type": "markdown",
   "id": "1d70b6ab",
   "metadata": {},
   "source": [
    "## ШАГ 3"
   ]
  },
  {
   "cell_type": "code",
   "execution_count": 4,
   "id": "f9687a95",
   "metadata": {},
   "outputs": [],
   "source": [
    "visits_df.rename(columns={'datetime': 'date'}, inplace=True)\n",
    "regs_df.rename(columns={'datetime': 'date'}, inplace=True)\n",
    "\n",
    "visits_df = visits_df[~visits_df['user_agent'].str.lower().str.contains('bot')]\n",
    "\n",
    "visits_df['date'] = pd.to_datetime(visits_df['date'])\n",
    "regs_df['date'] = pd.to_datetime(regs_df['date'])\n",
    "\n",
    "visits_df = visits_df.sort_values('date').drop_duplicates(subset='visit_id', keep='last')\n",
    "regs_df = regs_df.sort_values('date')\n",
    "\n",
    "regs_df['date'] = regs_df['date'].dt.strftime('%Y-%m-%d')\n",
    "visits_df['date'] = visits_df['date'].dt.strftime('%Y-%m-%d')\n",
    "\n",
    "visits_grouped = visits_df.groupby(['date', 'platform'])['visit_id'].count().reset_index()\n",
    "registrations_grouped = regs_df.groupby(['date', 'platform'])['user_id'].count().reset_index()\n",
    "\n",
    "\n",
    "visits_grouped.rename(columns={'visit_id': 'visits'}, inplace=True)\n",
    "registrations_grouped.rename(columns={'user_id': 'registrations'}, inplace=True)\n",
    "\n"
   ]
  },
  {
   "cell_type": "code",
   "execution_count": 5,
   "id": "05dfc847",
   "metadata": {},
   "outputs": [
    {
     "name": "stdout",
     "output_type": "stream",
     "text": [
      "         date platform  visits\n",
      "0  2023-03-01  android      75\n",
      "1  2023-03-01      ios      22\n",
      "2  2023-03-01      web     279\n",
      "3  2023-03-02  android      67\n",
      "4  2023-03-02      ios      31\n",
      "         date platform  registrations\n",
      "0  2023-03-01  android             61\n",
      "1  2023-03-01      ios             18\n",
      "2  2023-03-01      web              8\n",
      "3  2023-03-02  android             59\n",
      "4  2023-03-02      ios             24\n"
     ]
    }
   ],
   "source": [
    "print(visits_grouped.head())\n",
    "print(registrations_grouped.head())"
   ]
  },
  {
   "cell_type": "code",
   "execution_count": 6,
   "id": "f4cbb973",
   "metadata": {},
   "outputs": [
    {
     "name": "stdout",
     "output_type": "stream",
     "text": [
      "   date_group platform  visits  registrations  conversion\n",
      "0  2023-03-01  android      75             61   81.333333\n",
      "1  2023-03-01      ios      22             18   81.818182\n",
      "2  2023-03-01      web     279              8    2.867384\n",
      "3  2023-03-02  android      67             59   88.059701\n",
      "4  2023-03-02      ios      31             24   77.419355\n"
     ]
    }
   ],
   "source": [
    "conversion_df = pd.merge(visits_grouped, registrations_grouped,\n",
    "                         on=['date', 'platform'], how='outer')\n",
    "\n",
    "conversion_df[['visits', 'registrations']] = conversion_df[['visits', 'registrations']].fillna(0)\n",
    "\n",
    "conversion_df['conversion'] = (conversion_df['registrations'] / conversion_df['visits']) * 100\n",
    "conversion_df['conversion'] = conversion_df['conversion'].round(6)\n",
    "\n",
    "conversion_df.rename(columns={'date': 'date_group'}, inplace=True)\n",
    "\n",
    "conversion_df = conversion_df.sort_values('date_group')\n",
    "\n",
    "conversion_df.to_json('conversion.json')\n",
    "\n",
    "print(conversion_df.head())"
   ]
  },
  {
   "cell_type": "markdown",
   "id": "4877045b",
   "metadata": {},
   "source": [
    "## ШАГ 4"
   ]
  },
  {
   "cell_type": "code",
   "execution_count": 17,
   "id": "19bdf164",
   "metadata": {},
   "outputs": [],
   "source": [
    "ADS_LINK = os.getenv('ADS_LINK')\n",
    "\n",
    "\n",
    "with req.get(ADS_LINK) as response:\n",
    "    with open('ads.csv', \"wb\") as f:\n",
    "        f.write(response.content)\n",
    "\n",
    "ads_df = pd.read_csv('./ads.csv')\n",
    "\n",
    "\n",
    "ads_df.rename(columns={'date': 'date_group'}, inplace=True)\n",
    "ads_df['date_group'] = pd.to_datetime(ads_df['date_group']).dt.strftime('%Y-%m-%d')\n",
    "ads_df['utm_campaign'] = ads_df['utm_campaign'].replace('', 'none')\n",
    "ads_df['cost'] = ads_df['cost'].fillna(0)\n",
    "\n",
    "prepared_ads_df = ads_df[['date_group', 'cost', 'utm_campaign']]\n",
    "\n",
    "prepared_conversion_df = conversion_df.drop(['platform', 'conversion'], axis=1)\n",
    "add_ads_df = pd.merge(prepared_conversion_df, prepared_ads_df,\n",
    "                      on=['date_group'], how='outer')\n",
    "\n",
    "add_ads_df.to_json('ads.json')\n"
   ]
  },
  {
   "cell_type": "markdown",
   "id": "c3b907f5",
   "metadata": {},
   "source": [
    "## ШАГ 5"
   ]
  },
  {
   "cell_type": "code",
   "execution_count": null,
   "id": "6e22baf4",
   "metadata": {},
   "outputs": [],
   "source": []
  },
  {
   "cell_type": "markdown",
   "id": "a8d58835",
   "metadata": {},
   "source": []
  }
 ],
 "metadata": {
  "kernelspec": {
   "display_name": ".venv",
   "language": "python",
   "name": "python3"
  },
  "language_info": {
   "codemirror_mode": {
    "name": "ipython",
    "version": 3
   },
   "file_extension": ".py",
   "mimetype": "text/x-python",
   "name": "python",
   "nbconvert_exporter": "python",
   "pygments_lexer": "ipython3",
   "version": "3.13.3"
  }
 },
 "nbformat": 4,
 "nbformat_minor": 5
}
