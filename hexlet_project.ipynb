{
 "cells": [
  {
   "cell_type": "code",
   "execution_count": 2,
   "id": "345edd2c-1efa-46f5-a65c-6bf7aff4ab2a",
   "metadata": {},
   "outputs": [],
   "source": [
    "import pandas as pd \n",
    "import requests as req"
   ]
  },
  {
   "cell_type": "code",
   "execution_count": 85,
   "id": "a1f4be61-c995-4d70-baa4-ec09ccc9d0ce",
   "metadata": {},
   "outputs": [
    {
     "name": "stdout",
     "output_type": "stream",
     "text": [
      "Registration\n",
      "                     date  user_id                      email platform  \\\n",
      "947  2023-03-05T21:11:40  8509874         zsmith@example.org      web   \n",
      "969  2023-03-05T21:50:21  1557199    watsonsarah@example.org      web   \n",
      "970  2023-03-05T21:52:46  8833853  robinsonkatie@example.net      web   \n",
      "965  2023-03-05T22:00:42  6650724    andrewparks@example.com      web   \n",
      "973  2023-03-05T22:04:01   393104   kelseynewman@example.com      web   \n",
      "\n",
      "    registration_type  \n",
      "947             apple  \n",
      "969            google  \n",
      "970            yandex  \n",
      "965            google  \n",
      "973             apple  \n",
      "\n",
      "Visits\n",
      "                                      uuid platform  \\\n",
      "264  d72d0452-c34d-4a29-9e7d-ad1cee0256b8      web   \n",
      "699  0e63cfdc-84dc-4bf9-a646-aef87212761d      web   \n",
      "790  a1772ff8-4cfa-47fb-b192-e9b8347fa7c0      web   \n",
      "346  7827eafe-c8cf-4472-9b29-07132085dc12      web   \n",
      "285  bcd5f9f0-dd3f-43e7-87a1-1010cb626433      web   \n",
      "\n",
      "                                            user_agent                 date  \n",
      "264  Mozilla/5.0 (X11; CrOS x86_64 8172.45.0) Apple...  2023-03-01T00:05:35  \n",
      "699  Mozilla/5.0 (Windows NT 10.0; Win64; x64; rv:1...  2023-03-01T00:08:44  \n",
      "790  Mozilla/5.0 (X11; Ubuntu; Linux x86_64; rv:15....  2023-03-01T00:10:50  \n",
      "346  Mozilla/5.0 (Windows NT 10.0; Win64; x64) Appl...  2023-03-01T00:17:01  \n",
      "285  Mozilla/5.0 (Windows NT 10.0; Win64; x64) Appl...  2023-03-01T00:20:31  \n"
     ]
    }
   ],
   "source": [
    "regist = pd.read_csv('./regs_1k.csv')\n",
    "visits = pd.read_csv('./visits_1k.csv')\n",
    "\n",
    "print(f'Registration\\n {regist.sort_values('date').tail()}')\n",
    "\n",
    "print(f'\\nVisits\\n {visits.sort_values('date').head()}')"
   ]
  },
  {
   "cell_type": "code",
   "execution_count": null,
   "id": "27399f04-9d24-4ce0-8fd1-a84aae769713",
   "metadata": {},
   "outputs": [
    {
     "name": "stdout",
     "output_type": "stream",
     "text": [
      "<Response [500]>\n"
     ]
    }
   ],
   "source": [
    "START = '2023-03-01'\n",
    "END = '2023-09-01'\n",
    "visitors_req = req.get('https://data-charts-api.hexlet.app/visits?begin={START}&end={END}')\n",
    "print(visitors_req)\n",
    "# visitors = pd.DataFrame(visitors_req.json())\n",
    "regs_req = req.get('https://data-charts-api.hexlet.app/registrations?begin={START}&end={END}')\n",
    "# regs = pd.DataFrame(regs_req.json())\n",
    "\n",
    "# resp = requests.get('http://localhost:9000/visits')\n",
    "# data = pd.DataFrame(resp.json())"
   ]
  },
  {
   "cell_type": "code",
   "execution_count": 88,
   "id": "19503ddd-40fc-4072-af66-196e2b4008b3",
   "metadata": {},
   "outputs": [],
   "source": [
    "start_date = '2023-03-01'\n",
    "end_date = '2023-09-01'\n",
    "\n",
    "regist = regist.sort_values('date')\n",
    "\n",
    "visits = visits.sort_values('date')\n",
    "regist['date'] = pd.to_datetime(regist['date'])\n",
    "regist['date'] = regist['date'].dt.strftime('%Y-%m-%d')\n",
    "filtered_regist = regist[(regist['date'] >= start_date) & (regist['date'] <= end_date)]\n",
    "\n",
    "visits['date'] = pd.to_datetime(visits['date'])\n",
    "visits['date'] = visits['date'].dt.strftime('%Y-%m-%d')\n",
    "filtered_visits = visits[(visits['date'] >= start_date) & (visits['date'] <= end_date)]\n",
    "\n",
    "# print(f'Registration\\n {filtered_regist.tail()}')\n",
    "# print(f'\\nVisits\\n {filtered_visits.head()}')\n"
   ]
  },
  {
   "cell_type": "code",
   "execution_count": null,
   "id": "a6e62fc1",
   "metadata": {},
   "outputs": [],
   "source": [
    "# regist_2 = regist.drop_duplicates(subset='user_id', keep='last')\n",
    "# regist_2['date'] = pd.to_datetime(regist_2['date'])\n",
    "# filtered_regist_2 = regist_2[(regist_2['date'] >= start_date) & (regist_2['date'] <= end_date)]\n",
    "\n",
    "# visits_2 = regist.drop_duplicates(subset='user_id', keep='last')\n",
    "# visits_2['date'] = pd.to_datetime(visits_2['date'])\n",
    "# filtered_visits_2 = visits_2[(visits_2['date'] >= start_date) & (visits_2['date'] <= end_date)]\n",
    "\n",
    "# print(f'Registration\\n {filtered_regist_2.head()}')\n",
    "# print(f'\\nVisits\\n {filtered_visits_2.head()}')"
   ]
  },
  {
   "cell_type": "code",
   "execution_count": 89,
   "id": "57944e8d",
   "metadata": {},
   "outputs": [
    {
     "name": "stdout",
     "output_type": "stream",
     "text": [
      "         date  regist_count\n",
      "0  2023-03-01            60\n",
      "1  2023-03-02           320\n",
      "2  2023-03-03           279\n",
      "3  2023-03-04           288\n",
      "4  2023-03-05            53\n",
      "  platform  regist_count\n",
      "0  android           517\n",
      "1      ios           218\n",
      "2      web           265\n",
      "  platform  visits_count\n",
      "0  android            27\n",
      "1      ios            19\n",
      "2      web           954\n",
      "         date  visits_count\n",
      "0  2023-03-01           510\n",
      "1  2023-03-02           149\n",
      "2  2023-03-03            98\n",
      "3  2023-03-04           105\n",
      "4  2023-03-05            94\n",
      "5  2023-03-06            40\n",
      "6  2023-03-07             4\n"
     ]
    }
   ],
   "source": [
    "grouped_regist = filtered_regist.groupby('platform')['user_id'].count().reset_index(name='regist_count')\n",
    "grouped_regist_date = filtered_regist.groupby('date')['user_id'].count().reset_index(name='regist_count')\n",
    "# grouped_regist.to_json('./result.json')\n",
    "\n",
    "grouped_visits = filtered_visits.groupby('platform')['uuid'].count().reset_index(name='visits_count')\n",
    "grouped_visits_date = filtered_visits.groupby('date')['uuid'].count().reset_index(name='visits_count')\n",
    "# grouped_visits.to_json('./result_2.json')\n",
    "print(grouped_regist_date)\n",
    "print(grouped_regist)\n",
    "print(grouped_visits)\n",
    "print(grouped_visits_date)\n",
    "\n",
    "\n"
   ]
  },
  {
   "cell_type": "code",
   "execution_count": null,
   "id": "be60d229",
   "metadata": {},
   "outputs": [],
   "source": []
  }
 ],
 "metadata": {
  "kernelspec": {
   "display_name": ".venv",
   "language": "python",
   "name": "python3"
  },
  "language_info": {
   "codemirror_mode": {
    "name": "ipython",
    "version": 3
   },
   "file_extension": ".py",
   "mimetype": "text/x-python",
   "name": "python",
   "nbconvert_exporter": "python",
   "pygments_lexer": "ipython3",
   "version": "3.13.3"
  }
 },
 "nbformat": 4,
 "nbformat_minor": 5
}
